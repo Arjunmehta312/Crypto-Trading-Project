{
 "cells": [
  {
   "cell_type": "markdown",
   "id": "b563098c-be42-4e85-a698-edaf591cfc66",
   "metadata": {},
   "source": [
    "This code is used for automated cryptocurrency trading based on Bollinger Bands, a type of statistical chart characterizing the prices and volatility over time of a financial instrument or commodity.\n",
    "\n",
    "Here’s how it works:\n",
    "\n",
    "1. Initialize the Exchange: The code first sets up a connection to the WazirX exchange.\n",
    "2. Fetch Prices: It then continuously fetches the latest prices of the specified cryptocurrency pair (in this case, “xmrusdt” which represents Monero to Tether).\n",
    "3. Calculate Bollinger Bands: The code calculates the Bollinger Bands for the specified cryptocurrency pair. Bollinger Bands consist of a middle band being an N-period simple moving average (SMA), an upper band at K times an N-period standard deviation above the middle band, and a lower band at K times an N-period standard deviation below the middle band. The parameters N and K are typically 20 and 2, respectively.\n",
    "4. Execute Trades: If the current price is higher than the upper band, it indicates that the cryptocurrency is overbought, and it might be a good time to sell. Conversely, if the current price is lower than the lower band, it indicates that the cryptocurrency is oversold, and it might be a good time to buy.\n",
    "The financial principle behind this is that the prices tend to stay within the upper and lower bands. Therefore, when the price goes outside of these bands, it is considered unusual, and it is expected to revert back within the bands. This strategy is known as mean reversion.\n",
    "\n",
    "However, it’s important to note that in real-world trading, factors such as transaction fees, market liquidity, and price slippage can affect the profitability of trading strategies. Also, using this kind of automated trading bot requires careful risk management and is not without risks. Always use caution and consult with a financial advisor before engaging in cryptocurrency trading.\n",
    "\n",
    "Please replace \"your-smtp-server.com\", your-port, \"your-email@example.com\", \"your-password\", \"<your-api-key>\", and \"<your-secret-key>\" with your actual SMTP server details, email details, and WazirX API credentials respectively. The email functionality is used to send notifications when a buy or sell signal is generated. The rate limiter is used to ensure that the code does not exceed the API’s rate limit. The logging functionality is used to log information about when buy or sell signals are generated and when there are errors. The code runs indefinitely, checking for trading signals every 60 seconds."
   ]
  },
  {
   "cell_type": "code",
   "execution_count": null,
   "id": "02beac07-3b66-4570-94e7-416c128be424",
   "metadata": {},
   "outputs": [],
   "source": [
    "import requests\n",
    "import time\n",
    "import numpy as np\n",
    "import pandas as pd\n",
    "import logging\n",
    "import smtplib\n",
    "from email.mime.multipart import MIMEMultipart\n",
    "from email.mime.text import MIMEText\n",
    "from scipy.stats import norm\n",
    "from ratelimiter import RateLimiter\n",
    "\n",
    "# Define the API endpoint\n",
    "base_url = \"https://api.wazirx.com\""
   ]
  },
  {
   "cell_type": "code",
   "execution_count": null,
   "id": "54b7d08f-395b-43c8-b9b4-ab73bf1ee960",
   "metadata": {},
   "outputs": [],
   "source": [
    "# Set up logging\n",
    "logging.basicConfig(filename='trading_bot.log', level=logging.INFO)\n"
   ]
  },
  {
   "cell_type": "code",
   "execution_count": null,
   "id": "6e4ff28f-7a25-4df1-9f7b-9a1c36b731ab",
   "metadata": {},
   "outputs": [],
   "source": [
    "# Set up rate limiter\n",
    "rate_limiter = RateLimiter(max_calls=10, period=1)  # Adjust these values based on the API's rate limit\n",
    "\n",
    "def send_email(subject, message):\n",
    "    \"\"\"Send an email notification.\"\"\"\n",
    "    # Set up the SMTP server\n",
    "    s = smtplib.SMTP(host='your-smtp-server.com', port=your-port)\n",
    "    s.starttls()\n",
    "    s.login(\"your-email@example.com\", \"your-password\")\n",
    "\n",
    "    # Create the email\n",
    "    msg = MIMEMultipart()\n",
    "    msg['From'] = \"your-email@example.com\"\n",
    "    msg['To'] = \"your-email@example.com\"\n",
    "    msg['Subject'] = subject\n",
    "    msg.attach(MIMEText(message))\n",
    "\n",
    "    # Send the email\n",
    "    s.send_message(msg)\n",
    "    s.quit()"
   ]
  },
  {
   "cell_type": "code",
   "execution_count": null,
   "id": "baf37178-e0e6-4278-9af6-d7271d4de1ba",
   "metadata": {},
   "outputs": [],
   "source": [
    "@rate_limiter\n",
    "def get_price(symbol):\n",
    "    \"\"\"Fetch the latest price of a symbol.\"\"\"\n",
    "    try:\n",
    "        response = requests.get(f\"{base_url}/api/v1/ticker/24hr\", params={\"symbol\": symbol})\n",
    "        data = response.json()\n",
    "        return float(data['lastPrice'])\n",
    "    except Exception as e:\n",
    "        logging.error(f\"Error fetching price: {e}\")\n",
    "        send_email(\"Trading Bot Error\", f\"Error fetching price: {e}\")\n",
    "        return None"
   ]
  },
  {
   "cell_type": "code",
   "execution_count": null,
   "id": "ca7c0f4c-ecbf-43c3-8df8-9c48a729b6dd",
   "metadata": {},
   "outputs": [],
   "source": [
    "@rate_limiter\n",
    "def calculate_bollinger_bands(symbol, period=20, std_dev_factor=2):\n",
    "    \"\"\"Calculate the Bollinger Bands for a symbol.\"\"\"\n",
    "    try:\n",
    "        # Fetch historical data\n",
    "        response = requests.get(f\"{base_url}/api/v1/klines\", params={\"symbol\": symbol, \"interval\": \"1d\", \"limit\": period})\n",
    "        data = response.json()\n",
    "        closing_prices = [float(x[4]) for x in data]  # 4th index is the closing price\n",
    "        df = pd.DataFrame(closing_prices, columns=['Close'])\n",
    "\n",
    "        # Calculate the SMA and standard deviation\n",
    "        sma = df['Close'].rolling(window=period).mean()\n",
    "        std_dev = df['Close'].rolling(window=period).std()\n",
    "\n",
    "        # Calculate the upper and lower Bollinger Bands\n",
    "        upper_band = sma + std_dev_factor * std_dev\n",
    "        lower_band = sma - std_dev_factor * std_dev\n",
    "\n",
    "        return upper_band.iloc[-1], lower_band.iloc[-1]\n",
    "    except Exception as e:\n",
    "        logging.error(f\"Error calculating Bollinger Bands: {e}\")\n",
    "        send_email(\"Trading Bot Error\", f\"Error calculating Bollinger Bands: {e}\")\n",
    "        return None, None"
   ]
  },
  {
   "cell_type": "code",
   "execution_count": null,
   "id": "1048025e-2477-45a8-aaff-8bb2358d0afc",
   "metadata": {},
   "outputs": [],
   "source": [
    "def trade(symbol, api_key, secret_key):\n",
    "    \"\"\"Main trading loop.\"\"\"\n",
    "    while True:\n",
    "        upper_band, lower_band = calculate_bollinger_bands(symbol)\n",
    "        price = get_price(symbol)\n",
    "\n",
    "        if price is None or upper_band is None or lower_band is None:\n",
    "            time.sleep(60)  # Sleep for 60 seconds\n",
    "            continue\n",
    "\n",
    "        if price > upper_band:\n",
    "            # Sell logic here\n",
    "            logging.info(f\"Sell signal generated for {symbol} at price {price}\")\n",
    "            send_email(\"Trading Bot Action\", f\"Sell signal generated for {symbol} at price {price}\")\n",
    "            # Use your API key and secret key to place a sell order\n",
    "        elif price < lower_band:\n",
    "            # Buy logic here\n",
    "            logging.info(f\"Buy signal generated for {symbol} at price {price}\")\n",
    "            send_email(\"Trading Bot Action\", f\"Buy signal generated for {symbol} at price {price}\")\n",
    "            # Use your API key and secret key to place a buy order\n",
    "\n",
    "        time.sleep(60)  # Sleep for 60 seconds"
   ]
  },
  {
   "cell_type": "code",
   "execution_count": null,
   "id": "d39fbe17-636b-4ba2-863f-437ca1ce8c2a",
   "metadata": {},
   "outputs": [],
   "source": [
    "# Start the trading bot\n",
    "trade(\"xmrusdt\", \"<your-api-key>\", \"<your-secret-key>\")\n"
   ]
  }
 ],
 "metadata": {
  "kernelspec": {
   "display_name": "Python 3 (ipykernel)",
   "language": "python",
   "name": "python3"
  },
  "language_info": {
   "codemirror_mode": {
    "name": "ipython",
    "version": 3
   },
   "file_extension": ".py",
   "mimetype": "text/x-python",
   "name": "python",
   "nbconvert_exporter": "python",
   "pygments_lexer": "ipython3",
   "version": "3.11.4"
  }
 },
 "nbformat": 4,
 "nbformat_minor": 5
}
